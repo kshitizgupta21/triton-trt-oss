{
 "cells": [
  {
   "cell_type": "code",
   "execution_count": 19,
   "id": "de6e28cd-6450-4913-8302-bb5f1b574b31",
   "metadata": {},
   "outputs": [],
   "source": [
    "import numpy as np\n",
    "import torch\n",
    "import json\n",
    "from pathlib import Path\n",
    "import os\n",
    "import sys\n",
    "ROOT_DIR = os.path.abspath(\"../\")\n",
    "from pathlib import Path\n",
    "sys.path.append(ROOT_DIR)\n",
    "from NNDF.networks import NetworkMetadata, Precision\n",
    "from NNDF.torch_utils import expand_inputs_for_beam_search\n",
    "from T5.T5ModelConfig import T5ModelTRTConfig, T5Metadata\n",
    "from T5.trt import T5TRTEncoder, T5TRTDecoder\n",
    "from T5.export import T5EncoderTRTEngine, T5DecoderTRTEngine\n",
    "from torch.utils.dlpack import from_dlpack, to_dlpack\n",
    "\n",
    "# from HuggingFace transformers\n",
    "from transformers.generation_logits_process import (\n",
    "    MinLengthLogitsProcessor,\n",
    "    LogitsProcessorList,\n",
    ")\n",
    "from transformers.generation_stopping_criteria import (\n",
    "    MaxLengthCriteria,\n",
    "    StoppingCriteriaList,\n",
    ")\n",
    "from transformers.generation_beam_search import (\n",
    "    BeamSearchScorer,\n",
    ")\n",
    "from transformers import AutoTokenizer, AutoConfig"
   ]
  },
  {
   "cell_type": "code",
   "execution_count": 28,
   "id": "ae95b2f1-5470-4981-9bb5-ef8c1294263d",
   "metadata": {},
   "outputs": [],
   "source": [
    "# settings\n",
    "\n",
    "T5_VARIANT = \"t5-small\"\n",
    "num_beams = 2\n",
    "batch_size = 1\n",
    "early_stopping = False\n",
    "max_length = 200\n",
    "min_length = 30\n",
    "# TRT KV Cache disabled due to performance improvements in progress, not beating non-KV version yet\n",
    "use_cache = False"
   ]
  },
  {
   "cell_type": "code",
   "execution_count": 29,
   "id": "7fc991a0-63af-4224-89cf-ab2d21e3448f",
   "metadata": {},
   "outputs": [
    {
     "name": "stdout",
     "output_type": "stream",
     "text": [
      "[11/09/2022-04:08:38] [TRT] [W] CUDA lazy loading is not enabled. Enabling it can significantly reduce device memory usage. See `CUDA_MODULE_LOADING` in https://docs.nvidia.com/cuda/cuda-c-programming-guide/index.html#env-vars\n",
      "[11/09/2022-04:08:38] [TRT] [W] CUDA lazy loading is not enabled. Enabling it can significantly reduce device memory usage. See `CUDA_MODULE_LOADING` in https://docs.nvidia.com/cuda/cuda-c-programming-guide/index.html#env-vars\n"
     ]
    }
   ],
   "source": [
    "\n",
    "# Initialize TensorRT engines from disk\n",
    "metadata = NetworkMetadata(variant=T5_VARIANT, precision=Precision(fp16=True), other=T5Metadata(kv_cache=use_cache))\n",
    "\n",
    "encoder_onnx_model_fpath = T5_VARIANT + \"-encoder.onnx\"\n",
    "decoder_onnx_model_fpath = T5_VARIANT + \"-decoder-with-lm-head.onnx\"\n",
    "tensorrt_model_path = f\"models/{T5_VARIANT}/tensorrt\"\n",
    "trt_config = AutoConfig.from_pretrained(T5_VARIANT)\n",
    "trt_config.use_cache = metadata.other.kv_cache\n",
    "trt_config.num_layers = T5ModelTRTConfig.NUMBER_OF_LAYERS[T5_VARIANT]\n",
    "t5_trt_encoder_engine = T5EncoderTRTEngine(os.path.join(tensorrt_model_path, encoder_onnx_model_fpath) + \".engine\", metadata)\n",
    "t5_trt_decoder_engine = T5DecoderTRTEngine(os.path.join(tensorrt_model_path, decoder_onnx_model_fpath) + \".engine\", metadata)\n",
    "t5_trt_encoder = T5TRTEncoder(\n",
    "                t5_trt_encoder_engine, metadata, trt_config, batch_size=batch_size\n",
    "            )\n",
    "t5_trt_decoder = T5TRTDecoder(\n",
    "                t5_trt_decoder_engine, metadata, trt_config, num_beams=num_beams, batch_size=batch_size\n",
    "            )\n",
    "\n",
    "tokenizer = AutoTokenizer.from_pretrained(T5_VARIANT)\n",
    "if early_stopping:\n",
    "    logits_processor = LogitsProcessorList([])\n",
    "else:\n",
    "    logits_processor = LogitsProcessorList([\n",
    "        MinLengthLogitsProcessor(min_length, tokenizer.convert_tokens_to_ids(tokenizer.eos_token))\n",
    "    ])\n",
    "stopping_criteria = StoppingCriteriaList([MaxLengthCriteria(max_length)]) \n",
    "pad_token_id = tokenizer.convert_tokens_to_ids(tokenizer.pad_token)"
   ]
  },
  {
   "cell_type": "code",
   "execution_count": 30,
   "id": "a2dfa397-1abe-4e8c-aa26-c6088e7cfad0",
   "metadata": {},
   "outputs": [],
   "source": [
    "texts4 = [\n",
    "    \"summarize: United States involvement in the Vietnam War began shortly after the end of World War II, first in an extremely limited capacity and escalated over a period of 20 years, peaking in April 1969 with 543,000 American combat troops stationed in Vietnam.[1] By the conclusion of the United States's involvement, over 3.1 million Americans had been stationed in Vietnam. This involvement, along with hippie culture, played a key role in sparking the Civil Rights Movement in the United States and wide ranging changes in popular culture.\",\n",
    "    \"summarize: Abraham Lincoln (/ˈlɪŋkən/ LINK-ən; February 12, 1809 – April 15, 1865) was an American lawyer and statesman who served as the 16th president of the United States from 1861 until his assassination in 1865. Lincoln led the nation through the American Civil War and succeeded in preserving the Union, abolishing slavery, bolstering the federal government, and modernizing the U.S. economy.\",\n",
    "    \"summarize: Elizabeth II (Elizabeth Alexandra Mary; 21 April 1926 – 8 September 2022) was Queen of the United Kingdom and other Commonwealth realms from 6 February 1952 until her death in 2022. She was queen regnant of 32 sovereign states during her lifetime, 15 of them at the time of her death. Her reign of 70 years and 214 days was the longest of any British monarch and the longest verified reign of any female monarch in history. \",\n",
    "    \"summarize: Obama was born in Honolulu, Hawaii. After graduating from Columbia University in 1983, he worked as a community organizer in Chicago. In 1988, he enrolled in Harvard Law School, where he was the first black president of the Harvard Law Review. After graduating, he became a civil rights attorney and an academic, teaching constitutional law at the University of Chicago Law School from 1992 to 2004.\"\n",
    "]"
   ]
  },
  {
   "cell_type": "code",
   "execution_count": 60,
   "id": "8d46983e-8dad-4ffa-90e1-2909c07c5af7",
   "metadata": {},
   "outputs": [],
   "source": [
    "tokenized_text = tokenizer([texts4[3]], padding=True, return_tensors=\"pt\")\n",
    "input_ids = tokenized_text['input_ids'].cuda()"
   ]
  },
  {
   "cell_type": "code",
   "execution_count": 61,
   "id": "101b0bc2-fcfd-4d3b-bfc3-e1d09a14959c",
   "metadata": {},
   "outputs": [
    {
     "data": {
      "text/plain": [
       "torch.Size([1, 92])"
      ]
     },
     "execution_count": 61,
     "metadata": {},
     "output_type": "execute_result"
    }
   ],
   "source": [
    "input_ids.shape"
   ]
  },
  {
   "cell_type": "code",
   "execution_count": 62,
   "id": "f476a9a7-69a2-4028-8b24-74383c0eddb0",
   "metadata": {},
   "outputs": [],
   "source": [
    "with torch.no_grad():\n",
    "    encoder_last_hidden_state = t5_trt_encoder(input_ids=input_ids)\n",
    "    t5_trt_decoder.set_encoder_hidden_states_for_inference_cycle(encoder_last_hidden_state)\n",
    "    if num_beams > 1:\n",
    "        encoder_last_hidden_state = expand_inputs_for_beam_search(encoder_last_hidden_state, expand_size=num_beams)\n",
    "    decoder_input_ids = torch.full((batch_size, 1), pad_token_id, dtype=torch.int32, device=\"cuda\")\n",
    "    if num_beams > 1:\n",
    "        decoder_input_ids = expand_inputs_for_beam_search(decoder_input_ids, expand_size=num_beams)\n",
    "    if num_beams == 1:\n",
    "        decoder_output = t5_trt_decoder.greedy_search(\n",
    "            input_ids=decoder_input_ids,\n",
    "            encoder_hidden_states=encoder_last_hidden_state,\n",
    "            stopping_criteria=stopping_criteria,\n",
    "            logits_processor=logits_processor,\n",
    "        )\n",
    "    else:\n",
    "        beam_scorer = BeamSearchScorer(\n",
    "        batch_size=batch_size,\n",
    "        num_beams=num_beams,\n",
    "        device=\"cuda\",\n",
    "        do_early_stopping=early_stopping,\n",
    "        )\n",
    "        decoder_output = t5_trt_decoder.beam_search(\n",
    "        input_ids=decoder_input_ids,\n",
    "        beam_scorer=beam_scorer,\n",
    "        encoder_hidden_states=encoder_last_hidden_state,\n",
    "        stopping_criteria=stopping_criteria,\n",
    "        logits_processor=logits_processor,\n",
    "        use_cache=metadata.other.kv_cache\n",
    "        )"
   ]
  },
  {
   "cell_type": "code",
   "execution_count": 63,
   "id": "cb5de9ef-83e1-46d5-a286-aed7ed268884",
   "metadata": {},
   "outputs": [],
   "source": [
    "outputs = tokenizer.batch_decode(decoder_output, skip_special_tokens=True)"
   ]
  },
  {
   "cell_type": "code",
   "execution_count": 64,
   "id": "bff71ba6-1fda-4056-9332-d28f702c6960",
   "metadata": {},
   "outputs": [
    {
     "data": {
      "text/plain": [
       "['Obama was born in Honolulu, Hawaii. he was the first black president of the Harvard Law Review. he was a civil rights attorney and an academic.']"
      ]
     },
     "execution_count": 64,
     "metadata": {},
     "output_type": "execute_result"
    }
   ],
   "source": [
    "outputs"
   ]
  },
  {
   "cell_type": "markdown",
   "id": "97f89beb-bc6f-45a0-8ea4-d13330045886",
   "metadata": {},
   "source": [
    "### Huggingface"
   ]
  },
  {
   "cell_type": "code",
   "execution_count": 65,
   "id": "0d42c622-3a3a-4ba6-a5a9-f9e6fdb39d0e",
   "metadata": {},
   "outputs": [],
   "source": [
    "from transformers import T5ForConditionalGeneration\n",
    "hf_model = T5ForConditionalGeneration.from_pretrained(T5_VARIANT)"
   ]
  },
  {
   "cell_type": "code",
   "execution_count": 66,
   "id": "1c789260-4dea-48aa-82c7-bb3844687eec",
   "metadata": {},
   "outputs": [],
   "source": [
    "hf_model = hf_model.eval().cuda();"
   ]
  },
  {
   "cell_type": "code",
   "execution_count": 67,
   "id": "6eb25410-11d1-4c38-b42a-9900ad308e1b",
   "metadata": {},
   "outputs": [],
   "source": [
    "hf_decoder_output = hf_model.generate(input_ids, max_length=200, min_length=30, num_beams=2, early_stopping=True)"
   ]
  },
  {
   "cell_type": "code",
   "execution_count": 68,
   "id": "00223c27-9915-4b05-a8e4-9b388865d8a6",
   "metadata": {},
   "outputs": [],
   "source": [
    "hf_outputs = tokenizer.batch_decode(hf_decoder_output, skip_special_tokens=True)"
   ]
  },
  {
   "cell_type": "code",
   "execution_count": 69,
   "id": "c900c9f8-7ab0-4c20-989b-1f9af4d9e432",
   "metadata": {},
   "outputs": [
    {
     "data": {
      "text/plain": [
       "['Obama was born in Honolulu, Hawaii. he was the first black president of the Harvard Law Review. he was a civil rights attorney and an academic.']"
      ]
     },
     "execution_count": 69,
     "metadata": {},
     "output_type": "execute_result"
    }
   ],
   "source": [
    "hf_outputs"
   ]
  },
  {
   "cell_type": "code",
   "execution_count": null,
   "id": "ce91c4a2-7cf4-4543-a906-42d8b93c3d5c",
   "metadata": {},
   "outputs": [],
   "source": []
  }
 ],
 "metadata": {
  "kernelspec": {
   "display_name": "Python 3 (ipykernel)",
   "language": "python",
   "name": "python3"
  },
  "language_info": {
   "codemirror_mode": {
    "name": "ipython",
    "version": 3
   },
   "file_extension": ".py",
   "mimetype": "text/x-python",
   "name": "python",
   "nbconvert_exporter": "python",
   "pygments_lexer": "ipython3",
   "version": "3.8.10"
  }
 },
 "nbformat": 4,
 "nbformat_minor": 5
}
