{
 "cells": [
  {
   "cell_type": "markdown",
   "id": "00f3a788",
   "metadata": {},
   "source": [
    "<img src=\"http://developer.download.nvidia.com/compute/machine-learning/frameworks/nvidia_logo.png\" style=\"width: 90px; float: center;\">"
   ]
  },
  {
   "cell_type": "markdown",
   "id": "c571f118",
   "metadata": {},
   "source": [
    "# Triton Client"
   ]
  },
  {
   "cell_type": "code",
   "execution_count": 1,
   "id": "e18f5440-77c3-478d-80e8-98a4a6635513",
   "metadata": {},
   "outputs": [
    {
     "name": "stdout",
     "output_type": "stream",
     "text": [
      "\u001b[33mWARNING: Running pip as the 'root' user can result in broken permissions and conflicting behaviour with the system package manager. It is recommended to use a virtual environment instead: https://pip.pypa.io/warnings/venv\u001b[0m\u001b[33m\n",
      "\u001b[0m\n",
      "\u001b[1m[\u001b[0m\u001b[34;49mnotice\u001b[0m\u001b[1;39;49m]\u001b[0m\u001b[39;49m A new release of pip available: \u001b[0m\u001b[31;49m22.3\u001b[0m\u001b[39;49m -> \u001b[0m\u001b[32;49m22.3.1\u001b[0m\n",
      "\u001b[1m[\u001b[0m\u001b[34;49mnotice\u001b[0m\u001b[1;39;49m]\u001b[0m\u001b[39;49m To update, run: \u001b[0m\u001b[32;49mpython3 -m pip install --upgrade pip\u001b[0m\n"
     ]
    }
   ],
   "source": [
    "!pip install tritonclient[http] --quiet"
   ]
  },
  {
   "cell_type": "markdown",
   "id": "89573965",
   "metadata": {},
   "source": [
    "## Imports & Setup"
   ]
  },
  {
   "cell_type": "code",
   "execution_count": 2,
   "id": "48732907",
   "metadata": {},
   "outputs": [
    {
     "data": {
      "text/html": [
       "<style>.jp-CodeCell.jp-mod-outputsScrolled .jp-Cell-outputArea { max-height: 24em; }</style>"
      ],
      "text/plain": [
       "<IPython.core.display.HTML object>"
      ]
     },
     "metadata": {},
     "output_type": "display_data"
    }
   ],
   "source": [
    "import os\n",
    "import pathlib\n",
    "import os\n",
    "os.environ[\"TOKENIZERS_PARALLELISM\"] = \"false\"\n",
    "from IPython.display import display, HTML\n",
    "display(HTML(\"<style>.jp-CodeCell.jp-mod-outputsScrolled .jp-Cell-outputArea { max-height: 24em; }</style>\"))\n",
    "import numpy as np\n",
    "import tritonclient.http as httpclient"
   ]
  },
  {
   "cell_type": "markdown",
   "id": "220b2374",
   "metadata": {},
   "source": [
    "## Check on Triton Server"
   ]
  },
  {
   "cell_type": "markdown",
   "id": "25e13ecf",
   "metadata": {},
   "source": [
    "We can test the status of the server connection by running the curl command: `curl -v <IP of machine>:8000/v2/health/ready` which should return `HTTP/1.1 200 OK`\n",
    "\n",
    "**NOTE:-** In our case the IP of machine on which Triton Server is currently running is `localhost`"
   ]
  },
  {
   "cell_type": "code",
   "execution_count": 10,
   "id": "06fb0eed",
   "metadata": {},
   "outputs": [
    {
     "name": "stdout",
     "output_type": "stream",
     "text": [
      "*   Trying 127.0.0.1:8000...\n",
      "* TCP_NODELAY set\n",
      "* Connected to localhost (127.0.0.1) port 8000 (#0)\n",
      "> GET /v2/health/ready HTTP/1.1\n",
      "> Host: localhost:8000\n",
      "> User-Agent: curl/7.68.0\n",
      "> Accept: */*\n",
      "> \n",
      "* Mark bundle as not supporting multiuse\n",
      "< HTTP/1.1 200 OK\n",
      "< Content-Length: 0\n",
      "< Content-Type: text/plain\n",
      "< \n",
      "* Connection #0 to host localhost left intact\n"
     ]
    }
   ],
   "source": [
    "!curl -v localhost:8000/v2/health/ready"
   ]
  },
  {
   "cell_type": "markdown",
   "id": "602f189a-fd79-4580-add5-a342591311de",
   "metadata": {},
   "source": [
    "## Perform Sample Inference"
   ]
  },
  {
   "cell_type": "code",
   "execution_count": 11,
   "id": "2fe49fd1-8417-49eb-a911-b9cda93f68e8",
   "metadata": {},
   "outputs": [],
   "source": [
    "from transformers import AutoTokenizer\n",
    "def sample_inference(texts, model_variant, triton_model_name, triton_url=\"localhost:8000\"):\n",
    "    tokenizer = AutoTokenizer.from_pretrained(model_variant)\n",
    "    tokenized_text = tokenizer(texts, padding=True, return_tensors=\"pt\")\n",
    "    input_ids = tokenized_text['input_ids'].numpy().astype(np.int32)\n",
    "    inputids_tensor = httpclient.InferInput(\"input_ids\", input_ids.shape, datatype=\"INT32\")\n",
    "    inputids_tensor.set_data_from_numpy(input_ids, binary_data=True)\n",
    "    outputs = [httpclient.InferRequestedOutput('output_ids', binary_data=True)]\n",
    "\n",
    "    triton_client = httpclient.InferenceServerClient(url=triton_url)\n",
    "\n",
    "    results = triton_client.infer(model_name=triton_model_name,\n",
    "                                  inputs=[inputids_tensor],\n",
    "                                  outputs=outputs)\n",
    "\n",
    "    outputs = results.as_numpy('output_ids')\n",
    "    output_text = tokenizer.batch_decode(outputs, skip_special_tokens=True)\n",
    "    return output_text"
   ]
  },
  {
   "cell_type": "code",
   "execution_count": 12,
   "id": "039669e2-5d72-4f49-b347-db63817bcce5",
   "metadata": {},
   "outputs": [],
   "source": [
    "texts1 = [\"summarize: United States involvement in the Vietnam War began shortly after the end of World War II, first in an extremely limited capacity and escalated over a period of 20 years, peaking in April 1969 with 543,000 American combat troops stationed in Vietnam.[1] By the conclusion of the United States's involvement, over 3.1 million Americans had been stationed in the country. This involvement, along with hippie culture, played a key role in sparking the Civil Rights Movement and wide ranging changes in popular culture.\"]"
   ]
  },
  {
   "cell_type": "code",
   "execution_count": 14,
   "id": "713bef87-db44-4ebe-8d54-b364091bc6cb",
   "metadata": {},
   "outputs": [],
   "source": [
    "output_texts = sample_inference(texts1, model_variant=\"t5-small\", triton_model_name = \"trt_t5_bs1_beam2\")"
   ]
  },
  {
   "cell_type": "code",
   "execution_count": 15,
   "id": "0397057e-931b-454a-81d3-b16227ab3230",
   "metadata": {},
   "outputs": [
    {
     "data": {
      "text/plain": [
       "[\"the involvement of the united states in the Vietnam war began shortly after the end of the world war II. the involvement began shortly after the end of the world war ii. by the conclusion of the United States's involvement, over 3.1 million americans had been stationed in the country. this involvement, along with hippie culture, played a key role in sparking the civil rights movement and wide ranging changes in popular culture.\"]"
      ]
     },
     "execution_count": 15,
     "metadata": {},
     "output_type": "execute_result"
    }
   ],
   "source": [
    "output_texts"
   ]
  },
  {
   "cell_type": "code",
   "execution_count": 16,
   "id": "993e9dab-294f-4408-99f9-8d2cd2155fb8",
   "metadata": {},
   "outputs": [],
   "source": [
    "output_texts = sample_inference(texts1, model_variant=\"facebook/bart-base\", triton_model_name = \"trt_bart_bs1_greedy\")"
   ]
  },
  {
   "cell_type": "code",
   "execution_count": 17,
   "id": "fb50c60b-fbc1-4b02-bcac-1c940ed29745",
   "metadata": {},
   "outputs": [
    {
     "data": {
      "text/plain": [
       "[\"summarize: United States involvement in the Vietnam War began shortly after the end of World War II, first in an extremely limited capacity and escalated over a period of 20 years, peaking in April 1969 with 543,000 American combat troops stationed in Vietnam.[1] By the conclusion of the United States's involvement, over 3.1 million Americans had been stationed in the country. This involvement, along with hippie culture, played a key role in sparking the Civil Rights Movement and wide ranging changes in popular culture.\"]"
      ]
     },
     "execution_count": 17,
     "metadata": {},
     "output_type": "execute_result"
    }
   ],
   "source": [
    "output_texts"
   ]
  },
  {
   "cell_type": "code",
   "execution_count": null,
   "id": "472ed861-7809-4b05-ab5e-d5c9c1c74d2a",
   "metadata": {},
   "outputs": [],
   "source": []
  }
 ],
 "metadata": {
  "kernelspec": {
   "display_name": "Python 3 (ipykernel)",
   "language": "python",
   "name": "python3"
  },
  "language_info": {
   "codemirror_mode": {
    "name": "ipython",
    "version": 3
   },
   "file_extension": ".py",
   "mimetype": "text/x-python",
   "name": "python",
   "nbconvert_exporter": "python",
   "pygments_lexer": "ipython3",
   "version": "3.8.10"
  }
 },
 "nbformat": 4,
 "nbformat_minor": 5
}
